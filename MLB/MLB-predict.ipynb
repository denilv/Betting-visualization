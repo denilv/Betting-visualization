{
 "cells": [
  {
   "cell_type": "markdown",
   "metadata": {},
   "source": [
    "# Statistical game result prediction\n",
    "### Denisov Ilia"
   ]
  },
  {
   "cell_type": "code",
   "execution_count": 1,
   "metadata": {
    "collapsed": false
   },
   "outputs": [
    {
     "name": "stdout",
     "output_type": "stream",
     "text": [
      "Populating the interactive namespace from numpy and matplotlib\n"
     ]
    },
    {
     "name": "stderr",
     "output_type": "stream",
     "text": [
      "/home/denilv/anaconda3/lib/python3.6/site-packages/IPython/core/magics/pylab.py:161: UserWarning: pylab import has clobbered these variables: ['random']\n",
      "`%matplotlib` prevents importing * from pylab and numpy\n",
      "  \"\\n`%matplotlib` prevents importing * from pylab and numpy\"\n"
     ]
    }
   ],
   "source": [
    "import numpy as np\n",
    "import pylab as pl\n",
    "import pandas as pd\n",
    "from datetime import datetime as dt\n",
    "from collections import Counter\n",
    "import matplotlib.mlab as mlab\n",
    "import seaborn as sns\n",
    "from sklearn.preprocessing import StandardScaler, MinMaxScaler\n",
    "from sklearn.metrics.pairwise import pairwise_distances\n",
    "import scipy as sp\n",
    "import random\n",
    "import scipy.stats\n",
    "from collections import defaultdict\n",
    "\n",
    "np.set_printoptions(precision=2, threshold=5)\n",
    "%pylab inline"
   ]
  },
  {
   "cell_type": "code",
   "execution_count": 29,
   "metadata": {
    "collapsed": false
   },
   "outputs": [
    {
     "data": {
      "text/html": [
       "<div>\n",
       "<table border=\"1\" class=\"dataframe\">\n",
       "  <thead>\n",
       "    <tr style=\"text-align: right;\">\n",
       "      <th></th>\n",
       "      <th>date</th>\n",
       "      <th>time</th>\n",
       "      <th>team</th>\n",
       "      <th>opponent_team</th>\n",
       "      <th>points</th>\n",
       "      <th>opponent_points</th>\n",
       "      <th>points_difference</th>\n",
       "      <th>spread</th>\n",
       "      <th>win_against_spread</th>\n",
       "      <th>spread_percentage_sbr</th>\n",
       "      <th>moneyline_team</th>\n",
       "      <th>moneyline_opponent</th>\n",
       "      <th>total_team</th>\n",
       "      <th>total_opponent</th>\n",
       "      <th>spread_percentage_sportsplays</th>\n",
       "      <th>spread_percentage_vegas</th>\n",
       "    </tr>\n",
       "  </thead>\n",
       "  <tbody>\n",
       "    <tr>\n",
       "      <th>0</th>\n",
       "      <td>20120822</td>\n",
       "      <td>2:10p</td>\n",
       "      <td>CHC</td>\n",
       "      <td>MIL</td>\n",
       "      <td>2</td>\n",
       "      <td>3</td>\n",
       "      <td>-1</td>\n",
       "      <td>1.5</td>\n",
       "      <td>0</td>\n",
       "      <td>30</td>\n",
       "      <td>205</td>\n",
       "      <td>-225</td>\n",
       "      <td>0.0</td>\n",
       "      <td>0.0</td>\n",
       "      <td>71</td>\n",
       "      <td>45</td>\n",
       "    </tr>\n",
       "    <tr>\n",
       "      <th>1</th>\n",
       "      <td>20120822</td>\n",
       "      <td>2:10p</td>\n",
       "      <td>MIL</td>\n",
       "      <td>CHC</td>\n",
       "      <td>3</td>\n",
       "      <td>2</td>\n",
       "      <td>1</td>\n",
       "      <td>-1.5</td>\n",
       "      <td>1</td>\n",
       "      <td>70</td>\n",
       "      <td>-225</td>\n",
       "      <td>205</td>\n",
       "      <td>0.0</td>\n",
       "      <td>0.0</td>\n",
       "      <td>29</td>\n",
       "      <td>55</td>\n",
       "    </tr>\n",
       "    <tr>\n",
       "      <th>2</th>\n",
       "      <td>20120822</td>\n",
       "      <td>6:35p</td>\n",
       "      <td>PIT</td>\n",
       "      <td>SD</td>\n",
       "      <td>2</td>\n",
       "      <td>4</td>\n",
       "      <td>-2</td>\n",
       "      <td>-1.5</td>\n",
       "      <td>0</td>\n",
       "      <td>70</td>\n",
       "      <td>-157</td>\n",
       "      <td>147</td>\n",
       "      <td>0.0</td>\n",
       "      <td>0.0</td>\n",
       "      <td>16</td>\n",
       "      <td>91</td>\n",
       "    </tr>\n",
       "    <tr>\n",
       "      <th>3</th>\n",
       "      <td>20120822</td>\n",
       "      <td>6:35p</td>\n",
       "      <td>SD</td>\n",
       "      <td>PIT</td>\n",
       "      <td>4</td>\n",
       "      <td>2</td>\n",
       "      <td>2</td>\n",
       "      <td>1.5</td>\n",
       "      <td>1</td>\n",
       "      <td>30</td>\n",
       "      <td>147</td>\n",
       "      <td>-157</td>\n",
       "      <td>0.0</td>\n",
       "      <td>0.0</td>\n",
       "      <td>84</td>\n",
       "      <td>9</td>\n",
       "    </tr>\n",
       "    <tr>\n",
       "      <th>4</th>\n",
       "      <td>20120822</td>\n",
       "      <td>7:05p</td>\n",
       "      <td>CIN</td>\n",
       "      <td>PHI</td>\n",
       "      <td>3</td>\n",
       "      <td>2</td>\n",
       "      <td>1</td>\n",
       "      <td>1.5</td>\n",
       "      <td>1</td>\n",
       "      <td>49</td>\n",
       "      <td>-101</td>\n",
       "      <td>-109</td>\n",
       "      <td>0.0</td>\n",
       "      <td>0.0</td>\n",
       "      <td>46</td>\n",
       "      <td>45</td>\n",
       "    </tr>\n",
       "  </tbody>\n",
       "</table>\n",
       "</div>"
      ],
      "text/plain": [
       "       date   time team opponent_team  points  opponent_points  \\\n",
       "0  20120822  2:10p  CHC           MIL       2                3   \n",
       "1  20120822  2:10p  MIL           CHC       3                2   \n",
       "2  20120822  6:35p  PIT            SD       2                4   \n",
       "3  20120822  6:35p   SD           PIT       4                2   \n",
       "4  20120822  7:05p  CIN           PHI       3                2   \n",
       "\n",
       "   points_difference  spread  win_against_spread  spread_percentage_sbr  \\\n",
       "0                 -1     1.5                   0                     30   \n",
       "1                  1    -1.5                   1                     70   \n",
       "2                 -2    -1.5                   0                     70   \n",
       "3                  2     1.5                   1                     30   \n",
       "4                  1     1.5                   1                     49   \n",
       "\n",
       "   moneyline_team  moneyline_opponent  total_team  total_opponent  \\\n",
       "0             205                -225         0.0             0.0   \n",
       "1            -225                 205         0.0             0.0   \n",
       "2            -157                 147         0.0             0.0   \n",
       "3             147                -157         0.0             0.0   \n",
       "4            -101                -109         0.0             0.0   \n",
       "\n",
       "   spread_percentage_sportsplays  spread_percentage_vegas  \n",
       "0                             71                       45  \n",
       "1                             29                       55  \n",
       "2                             16                       91  \n",
       "3                             84                        9  \n",
       "4                             46                       45  "
      ]
     },
     "execution_count": 29,
     "metadata": {},
     "output_type": "execute_result"
    }
   ],
   "source": [
    "delete_columns = ['week', 'game_id', 'season', 'team_org', 'opponent_team_org']\n",
    "df_raw = df_raw.drop(delete_columns, axis=1)\n",
    "df_raw.head()"
   ]
  },
  {
   "cell_type": "code",
   "execution_count": 35,
   "metadata": {
    "collapsed": false,
    "scrolled": true
   },
   "outputs": [
    {
     "name": "stdout",
     "output_type": "stream",
     "text": [
      "10117\n"
     ]
    },
    {
     "data": {
      "text/html": [
       "<div>\n",
       "<table border=\"1\" class=\"dataframe\">\n",
       "  <thead>\n",
       "    <tr style=\"text-align: right;\">\n",
       "      <th></th>\n",
       "      <th>year</th>\n",
       "      <th>winlose</th>\n",
       "      <th>week</th>\n",
       "      <th>weekday</th>\n",
       "      <th>hour</th>\n",
       "      <th>team</th>\n",
       "      <th>opponent_team</th>\n",
       "      <th>points</th>\n",
       "      <th>opponent_points</th>\n",
       "      <th>points_difference</th>\n",
       "      <th>spread</th>\n",
       "      <th>win_against_spread</th>\n",
       "      <th>spread_percentage_sbr</th>\n",
       "      <th>moneyline_team</th>\n",
       "      <th>moneyline_opponent</th>\n",
       "      <th>total_team</th>\n",
       "      <th>total_opponent</th>\n",
       "      <th>spread_percentage_sportsplays</th>\n",
       "      <th>spread_percentage_vegas</th>\n",
       "    </tr>\n",
       "  </thead>\n",
       "  <tbody>\n",
       "    <tr>\n",
       "      <th>0</th>\n",
       "      <td>2012</td>\n",
       "      <td>1</td>\n",
       "      <td>34</td>\n",
       "      <td>2</td>\n",
       "      <td>14</td>\n",
       "      <td>MIL</td>\n",
       "      <td>CHC</td>\n",
       "      <td>3</td>\n",
       "      <td>2</td>\n",
       "      <td>1</td>\n",
       "      <td>-1.5</td>\n",
       "      <td>1</td>\n",
       "      <td>70</td>\n",
       "      <td>-225</td>\n",
       "      <td>205</td>\n",
       "      <td>0.0</td>\n",
       "      <td>0.0</td>\n",
       "      <td>29</td>\n",
       "      <td>55</td>\n",
       "    </tr>\n",
       "    <tr>\n",
       "      <th>1</th>\n",
       "      <td>2012</td>\n",
       "      <td>1</td>\n",
       "      <td>34</td>\n",
       "      <td>2</td>\n",
       "      <td>18</td>\n",
       "      <td>SD</td>\n",
       "      <td>PIT</td>\n",
       "      <td>4</td>\n",
       "      <td>2</td>\n",
       "      <td>2</td>\n",
       "      <td>1.5</td>\n",
       "      <td>1</td>\n",
       "      <td>30</td>\n",
       "      <td>147</td>\n",
       "      <td>-157</td>\n",
       "      <td>0.0</td>\n",
       "      <td>0.0</td>\n",
       "      <td>84</td>\n",
       "      <td>9</td>\n",
       "    </tr>\n",
       "    <tr>\n",
       "      <th>2</th>\n",
       "      <td>2012</td>\n",
       "      <td>0</td>\n",
       "      <td>34</td>\n",
       "      <td>2</td>\n",
       "      <td>19</td>\n",
       "      <td>PHI</td>\n",
       "      <td>CIN</td>\n",
       "      <td>2</td>\n",
       "      <td>3</td>\n",
       "      <td>-1</td>\n",
       "      <td>-1.5</td>\n",
       "      <td>0</td>\n",
       "      <td>51</td>\n",
       "      <td>-109</td>\n",
       "      <td>-101</td>\n",
       "      <td>0.0</td>\n",
       "      <td>0.0</td>\n",
       "      <td>54</td>\n",
       "      <td>55</td>\n",
       "    </tr>\n",
       "    <tr>\n",
       "      <th>3</th>\n",
       "      <td>2012</td>\n",
       "      <td>0</td>\n",
       "      <td>34</td>\n",
       "      <td>2</td>\n",
       "      <td>19</td>\n",
       "      <td>WSH</td>\n",
       "      <td>ATL</td>\n",
       "      <td>1</td>\n",
       "      <td>5</td>\n",
       "      <td>-4</td>\n",
       "      <td>1.5</td>\n",
       "      <td>0</td>\n",
       "      <td>38</td>\n",
       "      <td>-105</td>\n",
       "      <td>-105</td>\n",
       "      <td>0.0</td>\n",
       "      <td>0.0</td>\n",
       "      <td>46</td>\n",
       "      <td>58</td>\n",
       "    </tr>\n",
       "    <tr>\n",
       "      <th>4</th>\n",
       "      <td>2012</td>\n",
       "      <td>0</td>\n",
       "      <td>34</td>\n",
       "      <td>2</td>\n",
       "      <td>19</td>\n",
       "      <td>NYM</td>\n",
       "      <td>COL</td>\n",
       "      <td>2</td>\n",
       "      <td>5</td>\n",
       "      <td>-3</td>\n",
       "      <td>-1.5</td>\n",
       "      <td>0</td>\n",
       "      <td>61</td>\n",
       "      <td>-157</td>\n",
       "      <td>147</td>\n",
       "      <td>0.0</td>\n",
       "      <td>0.0</td>\n",
       "      <td>29</td>\n",
       "      <td>79</td>\n",
       "    </tr>\n",
       "  </tbody>\n",
       "</table>\n",
       "</div>"
      ],
      "text/plain": [
       "   year  winlose  week  weekday  hour team opponent_team  points  \\\n",
       "0  2012        1    34        2    14  MIL           CHC       3   \n",
       "1  2012        1    34        2    18   SD           PIT       4   \n",
       "2  2012        0    34        2    19  PHI           CIN       2   \n",
       "3  2012        0    34        2    19  WSH           ATL       1   \n",
       "4  2012        0    34        2    19  NYM           COL       2   \n",
       "\n",
       "   opponent_points  points_difference  spread  win_against_spread  \\\n",
       "0                2                  1    -1.5                   1   \n",
       "1                2                  2     1.5                   1   \n",
       "2                3                 -1    -1.5                   0   \n",
       "3                5                 -4     1.5                   0   \n",
       "4                5                 -3    -1.5                   0   \n",
       "\n",
       "   spread_percentage_sbr  moneyline_team  moneyline_opponent  total_team  \\\n",
       "0                     70            -225                 205         0.0   \n",
       "1                     30             147                -157         0.0   \n",
       "2                     51            -109                -101         0.0   \n",
       "3                     38            -105                -105         0.0   \n",
       "4                     61            -157                 147         0.0   \n",
       "\n",
       "   total_opponent  spread_percentage_sportsplays  spread_percentage_vegas  \n",
       "0             0.0                             29                       55  \n",
       "1             0.0                             84                        9  \n",
       "2             0.0                             54                       55  \n",
       "3             0.0                             46                       58  \n",
       "4             0.0                             29                       79  "
      ]
     },
     "execution_count": 35,
     "metadata": {},
     "output_type": "execute_result"
    }
   ],
   "source": [
    "df_raw = pd.read_csv('seeds/inputs.csv')\n",
    "df_raw = df_raw.fillna(0)\n",
    "df = df_raw.iloc[1::2]\n",
    "df = df.reset_index()\n",
    "delete_columns = ['week', 'game_id', 'season', 'index', 'team_org', 'opponent_team_org']\n",
    "df = df.drop(delete_columns, axis=1)\n",
    "\n",
    "dates = np.array(df.date)\n",
    "dates = [dt.strptime(str(i), '%Y%m%d').date() for i in dates]\n",
    "\n",
    "#add time\n",
    "hours = []\n",
    "for i in df.time:\n",
    "    if i[-1] == 'p':\n",
    "        hours.append(12+int(i.split(':')[0]))\n",
    "    else:\n",
    "        hours.append(int(i.split(':')[0]))\n",
    "df.insert(1, 'hour', hours)\n",
    "\n",
    "#add week day\n",
    "weekdays = [i.weekday() for i in dates]\n",
    "df.insert(1, 'weekday', weekdays)\n",
    "\n",
    "#add weeknums\n",
    "weeknums = [i.isocalendar()[1] for i in dates]\n",
    "df.insert(1, 'week', weeknums)\n",
    "\n",
    "#add win/lose\n",
    "winloses = [1 if i>0 else 0 for i in df.points_difference]\n",
    "df.insert(1, 'winlose', winloses)\n",
    "df.drop('win_against_spread', axis=1)\n",
    "\n",
    "#add seasons\n",
    "seasons = [i.year for i in dates]\n",
    "df.insert(1, 'year', seasons)\n",
    "\n",
    "df.total_team = df.total_opponent\n",
    "\n",
    "df = df.drop(['date', 'time'], axis=1)\n",
    "df_old = df.copy()\n",
    "print(len(df))\n",
    "df.head()"
   ]
  },
  {
   "cell_type": "code",
   "execution_count": 3,
   "metadata": {
    "collapsed": false
   },
   "outputs": [
    {
     "data": {
      "text/html": [
       "<div>\n",
       "<table border=\"1\" class=\"dataframe\">\n",
       "  <thead>\n",
       "    <tr style=\"text-align: right;\">\n",
       "      <th></th>\n",
       "      <th>season_week</th>\n",
       "      <th>year</th>\n",
       "      <th>winlose</th>\n",
       "      <th>week</th>\n",
       "      <th>weekday</th>\n",
       "      <th>hour</th>\n",
       "      <th>team</th>\n",
       "      <th>opponent_team</th>\n",
       "      <th>points</th>\n",
       "      <th>opponent_points</th>\n",
       "      <th>points_difference</th>\n",
       "      <th>spread</th>\n",
       "      <th>win_against_spread</th>\n",
       "      <th>spread_percentage_sbr</th>\n",
       "      <th>moneyline_team</th>\n",
       "      <th>moneyline_opponent</th>\n",
       "      <th>total_team</th>\n",
       "      <th>total_opponent</th>\n",
       "      <th>spread_percentage_sportsplays</th>\n",
       "      <th>spread_percentage_vegas</th>\n",
       "    </tr>\n",
       "  </thead>\n",
       "  <tbody>\n",
       "    <tr>\n",
       "      <th>0</th>\n",
       "      <td>47</td>\n",
       "      <td>2012</td>\n",
       "      <td>0</td>\n",
       "      <td>34</td>\n",
       "      <td>2</td>\n",
       "      <td>14</td>\n",
       "      <td>CHC</td>\n",
       "      <td>MIL</td>\n",
       "      <td>2</td>\n",
       "      <td>3</td>\n",
       "      <td>-1</td>\n",
       "      <td>1.5</td>\n",
       "      <td>0</td>\n",
       "      <td>30</td>\n",
       "      <td>205</td>\n",
       "      <td>-225</td>\n",
       "      <td>0.0</td>\n",
       "      <td>0.0</td>\n",
       "      <td>71</td>\n",
       "      <td>45</td>\n",
       "    </tr>\n",
       "    <tr>\n",
       "      <th>1</th>\n",
       "      <td>47</td>\n",
       "      <td>2012</td>\n",
       "      <td>0</td>\n",
       "      <td>34</td>\n",
       "      <td>2</td>\n",
       "      <td>18</td>\n",
       "      <td>PIT</td>\n",
       "      <td>SD</td>\n",
       "      <td>2</td>\n",
       "      <td>4</td>\n",
       "      <td>-2</td>\n",
       "      <td>-1.5</td>\n",
       "      <td>0</td>\n",
       "      <td>70</td>\n",
       "      <td>-157</td>\n",
       "      <td>147</td>\n",
       "      <td>0.0</td>\n",
       "      <td>0.0</td>\n",
       "      <td>16</td>\n",
       "      <td>91</td>\n",
       "    </tr>\n",
       "    <tr>\n",
       "      <th>2</th>\n",
       "      <td>47</td>\n",
       "      <td>2012</td>\n",
       "      <td>1</td>\n",
       "      <td>34</td>\n",
       "      <td>2</td>\n",
       "      <td>19</td>\n",
       "      <td>CIN</td>\n",
       "      <td>PHI</td>\n",
       "      <td>3</td>\n",
       "      <td>2</td>\n",
       "      <td>1</td>\n",
       "      <td>1.5</td>\n",
       "      <td>1</td>\n",
       "      <td>49</td>\n",
       "      <td>-101</td>\n",
       "      <td>-109</td>\n",
       "      <td>0.0</td>\n",
       "      <td>0.0</td>\n",
       "      <td>46</td>\n",
       "      <td>45</td>\n",
       "    </tr>\n",
       "    <tr>\n",
       "      <th>3</th>\n",
       "      <td>47</td>\n",
       "      <td>2012</td>\n",
       "      <td>1</td>\n",
       "      <td>34</td>\n",
       "      <td>2</td>\n",
       "      <td>19</td>\n",
       "      <td>ATL</td>\n",
       "      <td>WSH</td>\n",
       "      <td>5</td>\n",
       "      <td>1</td>\n",
       "      <td>4</td>\n",
       "      <td>-1.5</td>\n",
       "      <td>1</td>\n",
       "      <td>62</td>\n",
       "      <td>-105</td>\n",
       "      <td>-105</td>\n",
       "      <td>0.0</td>\n",
       "      <td>0.0</td>\n",
       "      <td>54</td>\n",
       "      <td>42</td>\n",
       "    </tr>\n",
       "    <tr>\n",
       "      <th>4</th>\n",
       "      <td>47</td>\n",
       "      <td>2012</td>\n",
       "      <td>1</td>\n",
       "      <td>34</td>\n",
       "      <td>2</td>\n",
       "      <td>19</td>\n",
       "      <td>COL</td>\n",
       "      <td>NYM</td>\n",
       "      <td>5</td>\n",
       "      <td>2</td>\n",
       "      <td>3</td>\n",
       "      <td>1.5</td>\n",
       "      <td>1</td>\n",
       "      <td>39</td>\n",
       "      <td>147</td>\n",
       "      <td>-157</td>\n",
       "      <td>0.0</td>\n",
       "      <td>0.0</td>\n",
       "      <td>71</td>\n",
       "      <td>21</td>\n",
       "    </tr>\n",
       "  </tbody>\n",
       "</table>\n",
       "</div>"
      ],
      "text/plain": [
       "   season_week  year  winlose  week  weekday  hour team opponent_team  points  \\\n",
       "0           47  2012        0    34        2    14  CHC           MIL       2   \n",
       "1           47  2012        0    34        2    18  PIT            SD       2   \n",
       "2           47  2012        1    34        2    19  CIN           PHI       3   \n",
       "3           47  2012        1    34        2    19  ATL           WSH       5   \n",
       "4           47  2012        1    34        2    19  COL           NYM       5   \n",
       "\n",
       "   opponent_points  points_difference  spread  win_against_spread  \\\n",
       "0                3                 -1     1.5                   0   \n",
       "1                4                 -2    -1.5                   0   \n",
       "2                2                  1     1.5                   1   \n",
       "3                1                  4    -1.5                   1   \n",
       "4                2                  3     1.5                   1   \n",
       "\n",
       "   spread_percentage_sbr  moneyline_team  moneyline_opponent  total_team  \\\n",
       "0                     30             205                -225         0.0   \n",
       "1                     70            -157                 147         0.0   \n",
       "2                     49            -101                -109         0.0   \n",
       "3                     62            -105                -105         0.0   \n",
       "4                     39             147                -157         0.0   \n",
       "\n",
       "   total_opponent  spread_percentage_sportsplays  spread_percentage_vegas  \n",
       "0             0.0                             71                       45  \n",
       "1             0.0                             16                       91  \n",
       "2             0.0                             46                       45  \n",
       "3             0.0                             54                       42  \n",
       "4             0.0                             71                       21  "
      ]
     },
     "execution_count": 3,
     "metadata": {},
     "output_type": "execute_result"
    }
   ],
   "source": [
    "#add column season_week\n",
    "season_start = 40\n",
    "season_end = 24\n",
    "season_week = []\n",
    "for y, w in zip(df.year, df.week):\n",
    "    if w >= season_start:\n",
    "        sw = w - 40\n",
    "    else:\n",
    "        sw = w - 40 + 53\n",
    "    season_week.append(sw)\n",
    "df.insert(0, 'season_week', season_week)\n",
    "df.head()"
   ]
  },
  {
   "cell_type": "code",
   "execution_count": 4,
   "metadata": {
    "collapsed": false
   },
   "outputs": [
    {
     "data": {
      "text/html": [
       "<div>\n",
       "<table border=\"1\" class=\"dataframe\">\n",
       "  <thead>\n",
       "    <tr style=\"text-align: right;\">\n",
       "      <th></th>\n",
       "      <th>season</th>\n",
       "      <th>season_week</th>\n",
       "      <th>year</th>\n",
       "      <th>winlose</th>\n",
       "      <th>week</th>\n",
       "      <th>weekday</th>\n",
       "      <th>hour</th>\n",
       "      <th>team</th>\n",
       "      <th>opponent_team</th>\n",
       "      <th>points</th>\n",
       "      <th>...</th>\n",
       "      <th>points_difference</th>\n",
       "      <th>spread</th>\n",
       "      <th>win_against_spread</th>\n",
       "      <th>spread_percentage_sbr</th>\n",
       "      <th>moneyline_team</th>\n",
       "      <th>moneyline_opponent</th>\n",
       "      <th>total_team</th>\n",
       "      <th>total_opponent</th>\n",
       "      <th>spread_percentage_sportsplays</th>\n",
       "      <th>spread_percentage_vegas</th>\n",
       "    </tr>\n",
       "  </thead>\n",
       "  <tbody>\n",
       "    <tr>\n",
       "      <th>0</th>\n",
       "      <td>2012</td>\n",
       "      <td>47</td>\n",
       "      <td>2012</td>\n",
       "      <td>0</td>\n",
       "      <td>34</td>\n",
       "      <td>2</td>\n",
       "      <td>14</td>\n",
       "      <td>CHC</td>\n",
       "      <td>MIL</td>\n",
       "      <td>2</td>\n",
       "      <td>...</td>\n",
       "      <td>-1</td>\n",
       "      <td>1.5</td>\n",
       "      <td>0</td>\n",
       "      <td>30</td>\n",
       "      <td>205</td>\n",
       "      <td>-225</td>\n",
       "      <td>0.0</td>\n",
       "      <td>0.0</td>\n",
       "      <td>71</td>\n",
       "      <td>45</td>\n",
       "    </tr>\n",
       "    <tr>\n",
       "      <th>1</th>\n",
       "      <td>2012</td>\n",
       "      <td>47</td>\n",
       "      <td>2012</td>\n",
       "      <td>0</td>\n",
       "      <td>34</td>\n",
       "      <td>2</td>\n",
       "      <td>18</td>\n",
       "      <td>PIT</td>\n",
       "      <td>SD</td>\n",
       "      <td>2</td>\n",
       "      <td>...</td>\n",
       "      <td>-2</td>\n",
       "      <td>-1.5</td>\n",
       "      <td>0</td>\n",
       "      <td>70</td>\n",
       "      <td>-157</td>\n",
       "      <td>147</td>\n",
       "      <td>0.0</td>\n",
       "      <td>0.0</td>\n",
       "      <td>16</td>\n",
       "      <td>91</td>\n",
       "    </tr>\n",
       "    <tr>\n",
       "      <th>2</th>\n",
       "      <td>2012</td>\n",
       "      <td>47</td>\n",
       "      <td>2012</td>\n",
       "      <td>1</td>\n",
       "      <td>34</td>\n",
       "      <td>2</td>\n",
       "      <td>19</td>\n",
       "      <td>CIN</td>\n",
       "      <td>PHI</td>\n",
       "      <td>3</td>\n",
       "      <td>...</td>\n",
       "      <td>1</td>\n",
       "      <td>1.5</td>\n",
       "      <td>1</td>\n",
       "      <td>49</td>\n",
       "      <td>-101</td>\n",
       "      <td>-109</td>\n",
       "      <td>0.0</td>\n",
       "      <td>0.0</td>\n",
       "      <td>46</td>\n",
       "      <td>45</td>\n",
       "    </tr>\n",
       "    <tr>\n",
       "      <th>3</th>\n",
       "      <td>2012</td>\n",
       "      <td>47</td>\n",
       "      <td>2012</td>\n",
       "      <td>1</td>\n",
       "      <td>34</td>\n",
       "      <td>2</td>\n",
       "      <td>19</td>\n",
       "      <td>ATL</td>\n",
       "      <td>WSH</td>\n",
       "      <td>5</td>\n",
       "      <td>...</td>\n",
       "      <td>4</td>\n",
       "      <td>-1.5</td>\n",
       "      <td>1</td>\n",
       "      <td>62</td>\n",
       "      <td>-105</td>\n",
       "      <td>-105</td>\n",
       "      <td>0.0</td>\n",
       "      <td>0.0</td>\n",
       "      <td>54</td>\n",
       "      <td>42</td>\n",
       "    </tr>\n",
       "    <tr>\n",
       "      <th>4</th>\n",
       "      <td>2012</td>\n",
       "      <td>47</td>\n",
       "      <td>2012</td>\n",
       "      <td>1</td>\n",
       "      <td>34</td>\n",
       "      <td>2</td>\n",
       "      <td>19</td>\n",
       "      <td>COL</td>\n",
       "      <td>NYM</td>\n",
       "      <td>5</td>\n",
       "      <td>...</td>\n",
       "      <td>3</td>\n",
       "      <td>1.5</td>\n",
       "      <td>1</td>\n",
       "      <td>39</td>\n",
       "      <td>147</td>\n",
       "      <td>-157</td>\n",
       "      <td>0.0</td>\n",
       "      <td>0.0</td>\n",
       "      <td>71</td>\n",
       "      <td>21</td>\n",
       "    </tr>\n",
       "  </tbody>\n",
       "</table>\n",
       "<p>5 rows × 21 columns</p>\n",
       "</div>"
      ],
      "text/plain": [
       "   season  season_week  year  winlose  week  weekday  hour team opponent_team  \\\n",
       "0    2012           47  2012        0    34        2    14  CHC           MIL   \n",
       "1    2012           47  2012        0    34        2    18  PIT            SD   \n",
       "2    2012           47  2012        1    34        2    19  CIN           PHI   \n",
       "3    2012           47  2012        1    34        2    19  ATL           WSH   \n",
       "4    2012           47  2012        1    34        2    19  COL           NYM   \n",
       "\n",
       "   points           ...             points_difference  spread  \\\n",
       "0       2           ...                            -1     1.5   \n",
       "1       2           ...                            -2    -1.5   \n",
       "2       3           ...                             1     1.5   \n",
       "3       5           ...                             4    -1.5   \n",
       "4       5           ...                             3     1.5   \n",
       "\n",
       "   win_against_spread  spread_percentage_sbr  moneyline_team  \\\n",
       "0                   0                     30             205   \n",
       "1                   0                     70            -157   \n",
       "2                   1                     49            -101   \n",
       "3                   1                     62            -105   \n",
       "4                   1                     39             147   \n",
       "\n",
       "   moneyline_opponent  total_team  total_opponent  \\\n",
       "0                -225         0.0             0.0   \n",
       "1                 147         0.0             0.0   \n",
       "2                -109         0.0             0.0   \n",
       "3                -105         0.0             0.0   \n",
       "4                -157         0.0             0.0   \n",
       "\n",
       "   spread_percentage_sportsplays  spread_percentage_vegas  \n",
       "0                             71                       45  \n",
       "1                             16                       91  \n",
       "2                             46                       45  \n",
       "3                             54                       42  \n",
       "4                             71                       21  \n",
       "\n",
       "[5 rows x 21 columns]"
      ]
     },
     "execution_count": 4,
     "metadata": {},
     "output_type": "execute_result"
    }
   ],
   "source": [
    "season = []\n",
    "year = 2012\n",
    "prev_week = df.iloc[0].season_week\n",
    "for sw in df.season_week:\n",
    "    if sw < prev_week:\n",
    "        year += 1\n",
    "    season.append(year)\n",
    "    prev_week = sw\n",
    "df.insert(0, 'season', season)\n",
    "df.head()"
   ]
  },
  {
   "cell_type": "code",
   "execution_count": 48,
   "metadata": {
    "collapsed": false
   },
   "outputs": [],
   "source": [
    "df = df[df.spread > -3]"
   ]
  },
  {
   "cell_type": "code",
   "execution_count": 6,
   "metadata": {
    "collapsed": false
   },
   "outputs": [
    {
     "data": {
      "text/html": [
       "<div>\n",
       "<table border=\"1\" class=\"dataframe\">\n",
       "  <thead>\n",
       "    <tr style=\"text-align: right;\">\n",
       "      <th></th>\n",
       "      <th>year</th>\n",
       "      <th>winlose</th>\n",
       "      <th>week</th>\n",
       "      <th>weekday</th>\n",
       "      <th>hour</th>\n",
       "      <th>team</th>\n",
       "      <th>opponent_team</th>\n",
       "      <th>points</th>\n",
       "      <th>opponent_points</th>\n",
       "      <th>points_difference</th>\n",
       "      <th>spread</th>\n",
       "      <th>win_against_spread</th>\n",
       "      <th>spread_percentage_sbr</th>\n",
       "      <th>moneyline_team</th>\n",
       "      <th>moneyline_opponent</th>\n",
       "      <th>total_team</th>\n",
       "      <th>total_opponent</th>\n",
       "      <th>spread_percentage_sportsplays</th>\n",
       "      <th>spread_percentage_vegas</th>\n",
       "    </tr>\n",
       "  </thead>\n",
       "  <tbody>\n",
       "    <tr>\n",
       "      <th>10107</th>\n",
       "      <td>2017</td>\n",
       "      <td>0</td>\n",
       "      <td>16</td>\n",
       "      <td>2</td>\n",
       "      <td>22</td>\n",
       "      <td>COL</td>\n",
       "      <td>LAD</td>\n",
       "      <td>0</td>\n",
       "      <td>0</td>\n",
       "      <td>0</td>\n",
       "      <td>1.5</td>\n",
       "      <td>0</td>\n",
       "      <td>38</td>\n",
       "      <td>230</td>\n",
       "      <td>-250</td>\n",
       "      <td>0.0</td>\n",
       "      <td>0.0</td>\n",
       "      <td>11</td>\n",
       "      <td>19</td>\n",
       "    </tr>\n",
       "    <tr>\n",
       "      <th>10108</th>\n",
       "      <td>2017</td>\n",
       "      <td>0</td>\n",
       "      <td>16</td>\n",
       "      <td>2</td>\n",
       "      <td>15</td>\n",
       "      <td>TEX</td>\n",
       "      <td>OAK</td>\n",
       "      <td>0</td>\n",
       "      <td>0</td>\n",
       "      <td>0</td>\n",
       "      <td>1.5</td>\n",
       "      <td>0</td>\n",
       "      <td>56</td>\n",
       "      <td>104</td>\n",
       "      <td>-114</td>\n",
       "      <td>0.0</td>\n",
       "      <td>0.0</td>\n",
       "      <td>59</td>\n",
       "      <td>17</td>\n",
       "    </tr>\n",
       "    <tr>\n",
       "      <th>10109</th>\n",
       "      <td>2017</td>\n",
       "      <td>0</td>\n",
       "      <td>16</td>\n",
       "      <td>2</td>\n",
       "      <td>19</td>\n",
       "      <td>BOS</td>\n",
       "      <td>TOR</td>\n",
       "      <td>0</td>\n",
       "      <td>0</td>\n",
       "      <td>0</td>\n",
       "      <td>-1.5</td>\n",
       "      <td>0</td>\n",
       "      <td>68</td>\n",
       "      <td>-116</td>\n",
       "      <td>106</td>\n",
       "      <td>0.0</td>\n",
       "      <td>0.0</td>\n",
       "      <td>57</td>\n",
       "      <td>24</td>\n",
       "    </tr>\n",
       "    <tr>\n",
       "      <th>10110</th>\n",
       "      <td>2017</td>\n",
       "      <td>0</td>\n",
       "      <td>16</td>\n",
       "      <td>2</td>\n",
       "      <td>19</td>\n",
       "      <td>CWS</td>\n",
       "      <td>NYY</td>\n",
       "      <td>0</td>\n",
       "      <td>0</td>\n",
       "      <td>0</td>\n",
       "      <td>1.5</td>\n",
       "      <td>0</td>\n",
       "      <td>48</td>\n",
       "      <td>195</td>\n",
       "      <td>-215</td>\n",
       "      <td>0.0</td>\n",
       "      <td>0.0</td>\n",
       "      <td>35</td>\n",
       "      <td>8</td>\n",
       "    </tr>\n",
       "    <tr>\n",
       "      <th>10111</th>\n",
       "      <td>2017</td>\n",
       "      <td>0</td>\n",
       "      <td>16</td>\n",
       "      <td>2</td>\n",
       "      <td>19</td>\n",
       "      <td>DET</td>\n",
       "      <td>TB</td>\n",
       "      <td>0</td>\n",
       "      <td>0</td>\n",
       "      <td>0</td>\n",
       "      <td>1.5</td>\n",
       "      <td>0</td>\n",
       "      <td>46</td>\n",
       "      <td>160</td>\n",
       "      <td>-170</td>\n",
       "      <td>0.0</td>\n",
       "      <td>0.0</td>\n",
       "      <td>34</td>\n",
       "      <td>63</td>\n",
       "    </tr>\n",
       "    <tr>\n",
       "      <th>10112</th>\n",
       "      <td>2017</td>\n",
       "      <td>0</td>\n",
       "      <td>16</td>\n",
       "      <td>2</td>\n",
       "      <td>20</td>\n",
       "      <td>LAA</td>\n",
       "      <td>HOU</td>\n",
       "      <td>0</td>\n",
       "      <td>0</td>\n",
       "      <td>0</td>\n",
       "      <td>1.5</td>\n",
       "      <td>0</td>\n",
       "      <td>33</td>\n",
       "      <td>175</td>\n",
       "      <td>-185</td>\n",
       "      <td>0.0</td>\n",
       "      <td>0.0</td>\n",
       "      <td>6</td>\n",
       "      <td>15</td>\n",
       "    </tr>\n",
       "    <tr>\n",
       "      <th>10113</th>\n",
       "      <td>2017</td>\n",
       "      <td>0</td>\n",
       "      <td>16</td>\n",
       "      <td>2</td>\n",
       "      <td>20</td>\n",
       "      <td>CLE</td>\n",
       "      <td>MIN</td>\n",
       "      <td>0</td>\n",
       "      <td>0</td>\n",
       "      <td>0</td>\n",
       "      <td>-1.5</td>\n",
       "      <td>0</td>\n",
       "      <td>56</td>\n",
       "      <td>-138</td>\n",
       "      <td>128</td>\n",
       "      <td>0.0</td>\n",
       "      <td>0.0</td>\n",
       "      <td>77</td>\n",
       "      <td>40</td>\n",
       "    </tr>\n",
       "    <tr>\n",
       "      <th>10114</th>\n",
       "      <td>2017</td>\n",
       "      <td>0</td>\n",
       "      <td>16</td>\n",
       "      <td>2</td>\n",
       "      <td>15</td>\n",
       "      <td>MIA</td>\n",
       "      <td>SEA</td>\n",
       "      <td>0</td>\n",
       "      <td>0</td>\n",
       "      <td>0</td>\n",
       "      <td>1.5</td>\n",
       "      <td>0</td>\n",
       "      <td>39</td>\n",
       "      <td>131</td>\n",
       "      <td>-141</td>\n",
       "      <td>0.0</td>\n",
       "      <td>0.0</td>\n",
       "      <td>31</td>\n",
       "      <td>21</td>\n",
       "    </tr>\n",
       "    <tr>\n",
       "      <th>10115</th>\n",
       "      <td>2017</td>\n",
       "      <td>0</td>\n",
       "      <td>16</td>\n",
       "      <td>2</td>\n",
       "      <td>19</td>\n",
       "      <td>BAL</td>\n",
       "      <td>CIN</td>\n",
       "      <td>0</td>\n",
       "      <td>0</td>\n",
       "      <td>0</td>\n",
       "      <td>-1.5</td>\n",
       "      <td>0</td>\n",
       "      <td>5</td>\n",
       "      <td>-108</td>\n",
       "      <td>-102</td>\n",
       "      <td>0.0</td>\n",
       "      <td>0.0</td>\n",
       "      <td>24</td>\n",
       "      <td>42</td>\n",
       "    </tr>\n",
       "    <tr>\n",
       "      <th>10116</th>\n",
       "      <td>2017</td>\n",
       "      <td>0</td>\n",
       "      <td>16</td>\n",
       "      <td>2</td>\n",
       "      <td>20</td>\n",
       "      <td>SF</td>\n",
       "      <td>KC</td>\n",
       "      <td>0</td>\n",
       "      <td>0</td>\n",
       "      <td>0</td>\n",
       "      <td>-1.5</td>\n",
       "      <td>0</td>\n",
       "      <td>57</td>\n",
       "      <td>-144</td>\n",
       "      <td>134</td>\n",
       "      <td>0.0</td>\n",
       "      <td>0.0</td>\n",
       "      <td>57</td>\n",
       "      <td>49</td>\n",
       "    </tr>\n",
       "  </tbody>\n",
       "</table>\n",
       "</div>"
      ],
      "text/plain": [
       "       year  winlose  week  weekday  hour team opponent_team  points  \\\n",
       "10107  2017        0    16        2    22  COL           LAD       0   \n",
       "10108  2017        0    16        2    15  TEX           OAK       0   \n",
       "10109  2017        0    16        2    19  BOS           TOR       0   \n",
       "10110  2017        0    16        2    19  CWS           NYY       0   \n",
       "10111  2017        0    16        2    19  DET            TB       0   \n",
       "10112  2017        0    16        2    20  LAA           HOU       0   \n",
       "10113  2017        0    16        2    20  CLE           MIN       0   \n",
       "10114  2017        0    16        2    15  MIA           SEA       0   \n",
       "10115  2017        0    16        2    19  BAL           CIN       0   \n",
       "10116  2017        0    16        2    20   SF            KC       0   \n",
       "\n",
       "       opponent_points  points_difference  spread  win_against_spread  \\\n",
       "10107                0                  0     1.5                   0   \n",
       "10108                0                  0     1.5                   0   \n",
       "10109                0                  0    -1.5                   0   \n",
       "10110                0                  0     1.5                   0   \n",
       "10111                0                  0     1.5                   0   \n",
       "10112                0                  0     1.5                   0   \n",
       "10113                0                  0    -1.5                   0   \n",
       "10114                0                  0     1.5                   0   \n",
       "10115                0                  0    -1.5                   0   \n",
       "10116                0                  0    -1.5                   0   \n",
       "\n",
       "       spread_percentage_sbr  moneyline_team  moneyline_opponent  total_team  \\\n",
       "10107                     38             230                -250         0.0   \n",
       "10108                     56             104                -114         0.0   \n",
       "10109                     68            -116                 106         0.0   \n",
       "10110                     48             195                -215         0.0   \n",
       "10111                     46             160                -170         0.0   \n",
       "10112                     33             175                -185         0.0   \n",
       "10113                     56            -138                 128         0.0   \n",
       "10114                     39             131                -141         0.0   \n",
       "10115                      5            -108                -102         0.0   \n",
       "10116                     57            -144                 134         0.0   \n",
       "\n",
       "       total_opponent  spread_percentage_sportsplays  spread_percentage_vegas  \n",
       "10107             0.0                             11                       19  \n",
       "10108             0.0                             59                       17  \n",
       "10109             0.0                             57                       24  \n",
       "10110             0.0                             35                        8  \n",
       "10111             0.0                             34                       63  \n",
       "10112             0.0                              6                       15  \n",
       "10113             0.0                             77                       40  \n",
       "10114             0.0                             31                       21  \n",
       "10115             0.0                             24                       42  \n",
       "10116             0.0                             57                       49  "
      ]
     },
     "execution_count": 6,
     "metadata": {},
     "output_type": "execute_result"
    }
   ],
   "source": [
    "df.iloc[-10:]"
   ]
  },
  {
   "cell_type": "code",
   "execution_count": 7,
   "metadata": {
    "collapsed": true
   },
   "outputs": [],
   "source": [
    "distance_features = ['spread', 'spread_percentage_sbr', 'moneyline_team',\\\n",
    "       'moneyline_opponent', 'total_team', 'total_opponent',\\\n",
    "       'spread_percentage_sportsplays', 'spread_percentage_vegas']"
   ]
  },
  {
   "cell_type": "code",
   "execution_count": 83,
   "metadata": {
    "collapsed": false
   },
   "outputs": [
    {
     "name": "stdout",
     "output_type": "stream",
     "text": [
      " 1 percintile is   1.5 for SPREAD column.\n",
      " 5 percintile is   1.5 for SPREAD column.\n",
      "50 percintile is   1.5 for SPREAD column.\n",
      "75 percintile is   1.5 for SPREAD column.\n",
      "90 percintile is   1.5 for SPREAD column.\n",
      "95 percintile is   1.5 for SPREAD column.\n",
      "99 percintile is   1.5 for SPREAD column.\n",
      "\n",
      " 1 percintile is   7.0 for SPREAD_PERCENTAGE_SBR column.\n",
      " 5 percintile is  33.0 for SPREAD_PERCENTAGE_SBR column.\n",
      "50 percintile is  54.0 for SPREAD_PERCENTAGE_SBR column.\n",
      "75 percintile is  63.0 for SPREAD_PERCENTAGE_SBR column.\n",
      "90 percintile is  67.0 for SPREAD_PERCENTAGE_SBR column.\n",
      "95 percintile is  69.0 for SPREAD_PERCENTAGE_SBR column.\n",
      "99 percintile is  72.0 for SPREAD_PERCENTAGE_SBR column.\n",
      "\n",
      " 1 percintile is 100.0 for MONEYLINE_TEAM column.\n",
      " 5 percintile is 103.0 for MONEYLINE_TEAM column.\n",
      "50 percintile is 128.0 for MONEYLINE_TEAM column.\n",
      "75 percintile is 148.0 for MONEYLINE_TEAM column.\n",
      "90 percintile is 167.0 for MONEYLINE_TEAM column.\n",
      "95 percintile is 175.0 for MONEYLINE_TEAM column.\n",
      "99 percintile is 185.0 for MONEYLINE_TEAM column.\n",
      "\n",
      " 1 percintile is 100.0 for MONEYLINE_OPPONENT column.\n",
      " 5 percintile is 102.0 for MONEYLINE_OPPONENT column.\n",
      "50 percintile is 125.0 for MONEYLINE_OPPONENT column.\n",
      "75 percintile is 144.0 for MONEYLINE_OPPONENT column.\n",
      "90 percintile is 161.0 for MONEYLINE_OPPONENT column.\n",
      "95 percintile is 170.0 for MONEYLINE_OPPONENT column.\n",
      "99 percintile is 182.0 for MONEYLINE_OPPONENT column.\n",
      "\n",
      " 1 percintile is  10.0 for SPREAD_PERCENTAGE_SPORTSPLAYS column.\n",
      " 5 percintile is  16.0 for SPREAD_PERCENTAGE_SPORTSPLAYS column.\n",
      "50 percintile is  41.0 for SPREAD_PERCENTAGE_SPORTSPLAYS column.\n",
      "75 percintile is  62.0 for SPREAD_PERCENTAGE_SPORTSPLAYS column.\n",
      "90 percintile is  77.0 for SPREAD_PERCENTAGE_SPORTSPLAYS column.\n",
      "95 percintile is  81.0 for SPREAD_PERCENTAGE_SPORTSPLAYS column.\n",
      "99 percintile is  88.0 for SPREAD_PERCENTAGE_SPORTSPLAYS column.\n",
      "\n"
     ]
    }
   ],
   "source": [
    "for column in distance_features:\n",
    "    for perc in (1, 5, 50, 75, 90, 95, 99):\n",
    "        val = np.percentile(np.abs(df[column]), perc)\n",
    "        print('{: >2d} percintile is {: >5.1f} for {} column.'.format(perc, val, column.upper()))\n",
    "    print()"
   ]
  },
  {
   "cell_type": "markdown",
   "metadata": {},
   "source": [
    "### Some features redorms"
   ]
  },
  {
   "cell_type": "code",
   "execution_count": 45,
   "metadata": {
    "collapsed": true
   },
   "outputs": [],
   "source": [
    "df = df_old.copy()"
   ]
  },
  {
   "cell_type": "code",
   "execution_count": 84,
   "metadata": {
    "collapsed": false
   },
   "outputs": [
    {
     "name": "stdout",
     "output_type": "stream",
     "text": [
      "Deleted 1829 rows\n"
     ]
    }
   ],
   "source": [
    "#cut by percentile\n",
    "perc = 95\n",
    "for column in ('moneyline_opponent', 'moneyline_team', 'spread'):\n",
    "    val = np.percentile(np.abs(df[column]), perc)\n",
    "    df = df[np.abs(df[column]) <= val]\n",
    "print(\"Deleted {} rows\".format(len(df_old) - len(df)))\n"
   ]
  },
  {
   "cell_type": "code",
   "execution_count": 37,
   "metadata": {
    "collapsed": false
   },
   "outputs": [
    {
     "name": "stdout",
     "output_type": "stream",
     "text": [
      "Deleted 17 rows\n"
     ]
    }
   ],
   "source": [
    "tmp = len(df)\n",
    "for column in ('points_difference', 'moneyline_team', 'moneyline_opponent'):\n",
    "    df = df[np.abs(df[column]) != 0]\n",
    "print(\"Deleted {} rows\".format(tmp - len(df)))"
   ]
  },
  {
   "cell_type": "code",
   "execution_count": 12,
   "metadata": {
    "collapsed": false
   },
   "outputs": [
    {
     "name": "stdout",
     "output_type": "stream",
     "text": [
      "Deleted 4878 rows\n"
     ]
    }
   ],
   "source": [
    "season_start = 40\n",
    "season_end = 24\n",
    "tmp = len(df)\n",
    "df = df[np.logical_or(df.week >= season_start, df.week <= season_end)]\n",
    "print(\"Deleted {} rows\".format(tmp - len(df)))"
   ]
  },
  {
   "cell_type": "markdown",
   "metadata": {},
   "source": [
    "## Find of the most correlated features"
   ]
  },
  {
   "cell_type": "code",
   "execution_count": 16,
   "metadata": {
    "collapsed": true
   },
   "outputs": [],
   "source": [
    "def find_correlated_features(x, features):\n",
    "    # replace this code to find really correlated features\n",
    "    corr_matrix = abs(np.corrcoef(x.T))\n",
    "    c = Counter()\n",
    "    for i, feature_i in enumerate(features):\n",
    "        for j, feature_j in enumerate(features):\n",
    "            c['{} + {}'.format(feature_i, feature_j)] =  corr_matrix[i,j]\n",
    "            if i < j and  corr_matrix[i,j] > 0.3:\n",
    "                print(\"Correlated features: %s + %s -> %.2f\" % (feature_i, feature_j, corr_matrix[i,j]))\n",
    "#     print(c.most_common(20))"
   ]
  },
  {
   "cell_type": "code",
   "execution_count": 17,
   "metadata": {
    "collapsed": false
   },
   "outputs": [
    {
     "data": {
      "text/plain": [
       "Index(['year', 'winlose', 'week', 'weekday', 'hour', 'team', 'opponent_team',\n",
       "       'points', 'opponent_points', 'points_difference', 'spread',\n",
       "       'win_against_spread', 'spread_percentage_sbr', 'moneyline_team',\n",
       "       'moneyline_opponent', 'total_team', 'total_opponent',\n",
       "       'spread_percentage_sportsplays', 'spread_percentage_vegas'],\n",
       "      dtype='object')"
      ]
     },
     "execution_count": 17,
     "metadata": {},
     "output_type": "execute_result"
    }
   ],
   "source": [
    "df.columns"
   ]
  },
  {
   "cell_type": "code",
   "execution_count": 21,
   "metadata": {
    "collapsed": false
   },
   "outputs": [],
   "source": [
    "features = ['winlose',\\\n",
    "            'points', 'opponent_points', 'points_difference',\\\n",
    "            'spread', 'spread_percentage_sbr', 'moneyline_team',\\\n",
    "            'moneyline_opponent', 'total_team',\\\n",
    "            'spread_percentage_sportsplays', 'spread_percentage_vegas']\n",
    "x = df[features].values"
   ]
  },
  {
   "cell_type": "code",
   "execution_count": 22,
   "metadata": {
    "collapsed": false
   },
   "outputs": [
    {
     "name": "stdout",
     "output_type": "stream",
     "text": [
      "Correlated features: winlose + points -> 0.58\n",
      "Correlated features: winlose + opponent_points -> 0.52\n",
      "Correlated features: winlose + points_difference -> 0.79\n",
      "Correlated features: points + points_difference -> 0.71\n",
      "Correlated features: opponent_points + points_difference -> 0.68\n",
      "Correlated features: spread + spread_percentage_sbr -> 0.65\n",
      "Correlated features: spread + moneyline_team -> 0.88\n",
      "Correlated features: spread + moneyline_opponent -> 0.88\n",
      "Correlated features: spread + spread_percentage_sportsplays -> 0.74\n",
      "Correlated features: spread + spread_percentage_vegas -> 0.70\n",
      "Correlated features: spread_percentage_sbr + moneyline_team -> 0.68\n",
      "Correlated features: spread_percentage_sbr + moneyline_opponent -> 0.68\n",
      "Correlated features: spread_percentage_sbr + spread_percentage_sportsplays -> 0.82\n",
      "Correlated features: spread_percentage_sbr + spread_percentage_vegas -> 0.68\n",
      "Correlated features: moneyline_team + moneyline_opponent -> 0.89\n",
      "Correlated features: moneyline_team + spread_percentage_sportsplays -> 0.75\n",
      "Correlated features: moneyline_team + spread_percentage_vegas -> 0.69\n",
      "Correlated features: moneyline_opponent + spread_percentage_sportsplays -> 0.75\n",
      "Correlated features: moneyline_opponent + spread_percentage_vegas -> 0.69\n",
      "Correlated features: spread_percentage_sportsplays + spread_percentage_vegas -> 0.82\n"
     ]
    },
    {
     "name": "stderr",
     "output_type": "stream",
     "text": [
      "/home/denilv/anaconda3/lib/python3.6/site-packages/numpy/lib/function_base.py:2569: RuntimeWarning: invalid value encountered in true_divide\n",
      "  c /= stddev[:, None]\n",
      "/home/denilv/anaconda3/lib/python3.6/site-packages/numpy/lib/function_base.py:2570: RuntimeWarning: invalid value encountered in true_divide\n",
      "  c /= stddev[None, :]\n"
     ]
    }
   ],
   "source": [
    "find_correlated_features(x, features)"
   ]
  },
  {
   "cell_type": "code",
   "execution_count": 31,
   "metadata": {
    "collapsed": false
   },
   "outputs": [
    {
     "data": {
      "image/png": "[encoded data removed]",
      "text/plain": [
       "<matplotlib.figure.Figure at 0x7f67b4574390>"
      ]
     },
     "metadata": {},
     "output_type": "display_data"
    }
   ],
   "source": [
    "pl.figure(figsize=[11.7,10])\n",
    "hb = pl.hexbin(df['points'], df['opponent_points'], gridsize=30, cmap='inferno')\n",
    "pl.xlabel('Team points')\n",
    "pl.ylabel('Oppenent points')\n",
    "pl.title('Points 2D histogram by count of games')\n",
    "pl.colorbar()\n",
    "pl.show()"
   ]
  },
  {
   "cell_type": "code",
   "execution_count": 85,
   "metadata": {
    "collapsed": false
   },
   "outputs": [
    {
     "data": {
      "image/png": "[encoded data removed]",
      "text/plain": [
       "<matplotlib.figure.Figure at 0x7f67712f11d0>"
      ]
     },
     "metadata": {},
     "output_type": "display_data"
    }
   ],
   "source": [
    "for i, f in enumerate(features):\n",
    "    plt.subplot(4, 4,i+1)\n",
    "    fig = plt.gcf()\n",
    "    fig.set_size_inches(20,20)\n",
    "    sns.distplot(df[f], kde=False)\n",
    "    plt.xlim(0)\n",
    "    plt.xticks(rotation=45)\n",
    "plt.show()"
   ]
  },
  {
   "cell_type": "code",
   "execution_count": 89,
   "metadata": {
    "collapsed": false
   },
   "outputs": [
    {
     "data": {
      "image/png": "[encoded data removed]",
      "text/plain": [
       "<matplotlib.figure.Figure at 0x7f67a656e668>"
      ]
     },
     "metadata": {},
     "output_type": "display_data"
    }
   ],
   "source": [
    "spread = np.array(df['spread'])\n",
    "pl.figure(figsize=[10,10])\n",
    "n, bins, patches = pl.hist(spread, bins=len(set(df.spread)), edgecolor='black')\n",
    "pl.grid(True)\n",
    "pl.show()"
   ]
  },
  {
   "cell_type": "code",
   "execution_count": 82,
   "metadata": {
    "collapsed": false
   },
   "outputs": [
    {
     "name": "stdout",
     "output_type": "stream",
     "text": [
      "0.5 1\n",
      "1.5 3232\n",
      "0.0 1\n",
      "-2.5 1\n",
      "-1.5 5849\n"
     ]
    }
   ],
   "source": [
    "for s in set(df.spread):\n",
    "    print(s, len(df[spread==s]))"
   ]
  },
  {
   "cell_type": "code",
   "execution_count": 76,
   "metadata": {
    "collapsed": false
   },
   "outputs": [
    {
     "data": {
      "image/png": "[encoded data removed]",
      "text/plain": [
       "<matplotlib.figure.Figure at 0x7f679aecff28>"
      ]
     },
     "metadata": {},
     "output_type": "display_data"
    }
   ],
   "source": [
    "points = np.array(df['points'])\n",
    "pl.figure(figsize=[10,10])\n",
    "n, bins, patches = pl.hist(points, bins=len(set(df.points)), edgecolor='black', rwidth=0.7)\n",
    "pl.grid(True)\n",
    "pl.show()"
   ]
  },
  {
   "cell_type": "code",
   "execution_count": 53,
   "metadata": {
    "collapsed": false
   },
   "outputs": [
    {
     "data": {
      "image/png": "[encoded data removed]",
      "text/plain": [
       "<matplotlib.figure.Figure at 0x7f67b51dafd0>"
      ]
     },
     "metadata": {},
     "output_type": "display_data"
    }
   ],
   "source": [
    "moneyline_team = np.array(df['moneyline_team'])\n",
    "pl.figure(figsize=[10,10])\n",
    "n, bins, patches = pl.hist(moneyline_team, bins=20, edgecolor='black', rwidth=0.7)\n",
    "pl.grid(True)\n",
    "pl.show()"
   ]
  },
  {
   "cell_type": "code",
   "execution_count": 54,
   "metadata": {
    "collapsed": false
   },
   "outputs": [
    {
     "data": {
      "image/png": "[encoded data removed]",
      "text/plain": [
       "<matplotlib.figure.Figure at 0x7f67a672bf28>"
      ]
     },
     "metadata": {},
     "output_type": "display_data"
    }
   ],
   "source": [
    "moneyline_opponent = np.array(df['moneyline_opponent'])\n",
    "pl.figure(figsize=[10,10])\n",
    "n, bins, patches = pl.hist(moneyline_opponent, bins=20, edgecolor='black', rwidth=0.7)\n",
    "pl.grid(True)\n",
    "pl.show()"
   ]
  },
  {
   "cell_type": "code",
   "execution_count": 56,
   "metadata": {
    "collapsed": false
   },
   "outputs": [
    {
     "data": {
      "image/png": "[encoded data removed]",
      "text/plain": [
       "<matplotlib.figure.Figure at 0x7f67b406cbe0>"
      ]
     },
     "metadata": {},
     "output_type": "display_data"
    }
   ],
   "source": [
    "pts_diff = np.array(df['points_difference'])\n",
    "pts_diff = np.abs(pts_diff)[pts_diff!=0]\n",
    "pl.figure(figsize=[10,10])\n",
    "n, bins, patches = pl.hist(pts_diff, edgecolor='black', rwidth=0.7)\n",
    "pl.title('Points difference histogram')\n",
    "pl.xlabel('Points difference')\n",
    "pl.ylabel('Frequency')\n",
    "# pl.xticks(range(-70,70,2))\n",
    "pl.grid(True)\n",
    "pl.show()"
   ]
  },
  {
   "cell_type": "code",
   "execution_count": 60,
   "metadata": {
    "collapsed": false
   },
   "outputs": [
    {
     "name": "stderr",
     "output_type": "stream",
     "text": [
      "/home/denilv/anaconda3/lib/python3.6/site-packages/statsmodels/nonparametric/kdetools.py:20: VisibleDeprecationWarning: using a non-integer number instead of an integer will result in an error in the future\n",
      "  y = X[:m/2+1] + np.r_[0,X[m/2+1:],0]*1j\n"
     ]
    },
    {
     "data": {
      "image/png": "[encoded data removed]",
      "text/plain": [
       "<matplotlib.figure.Figure at 0x7f67a64c29b0>"
      ]
     },
     "metadata": {},
     "output_type": "display_data"
    }
   ],
   "source": [
    "x = df.points_difference\n",
    "y = df.spread\n",
    "sns.jointplot(x=x, y=y, kind='kde', size=10, ylim=(-3, 3))\n",
    "pl.show()"
   ]
  },
  {
   "cell_type": "markdown",
   "metadata": {},
   "source": [
    "## Get most similiar games"
   ]
  },
  {
   "cell_type": "code",
   "execution_count": 70,
   "metadata": {
    "collapsed": true
   },
   "outputs": [],
   "source": [
    "distance_features = ['spread', 'spread_percentage_sbr', 'moneyline_team',\\\n",
    "       'moneyline_opponent',\\\n",
    "       'spread_percentage_sportsplays',]# 'spread_percentage_vegas']"
   ]
  },
  {
   "cell_type": "code",
   "execution_count": 71,
   "metadata": {
    "collapsed": true
   },
   "outputs": [],
   "source": [
    "def get_report(_id):\n",
    "    w_av =np.average(similar_games[_id].points_difference[1:], weights=similar_games[_id].distance[1:])\n",
    "    print('Weighted average points_difference for simillar games', w_av)\n",
    "    print('Average points_difference for simillar games', \\\n",
    "          np.average(similar_games[_id].points_difference[1:]))\n",
    "    pl.figure(figsize=[10,10])\n",
    "    x = df.points_difference\n",
    "    y = df.spread\n",
    "    pl.scatter(x, y, c='lightblue', s=5, )\n",
    "    \n",
    "    top = 20\n",
    "    x1 = similar_games[_id].points_difference\n",
    "    y1 = similar_games[_id].spread\n",
    "    pl.scatter(x1[:top], y1[:top], c='red', s=10)\n",
    "    plt.xlim(-50,  40)\n",
    "    plt.ylim(-20, 30)\n",
    "    pl.xlabel('Points difference')\n",
    "    pl.ylabel('Spred')\n",
    "    pl.title('Show on the scatter the nearest games to the given game of 2017 season NCAA Basketball (id {})'.format(_id))\n",
    "    pl.show()\n",
    "    return w_av"
   ]
  },
  {
   "cell_type": "code",
   "execution_count": 435,
   "metadata": {
    "collapsed": true
   },
   "outputs": [],
   "source": [
    "def get_confidence(_id, w_av):\n",
    "    top = 75\n",
    "    return sqrt(np.sum((similar_games[_id].points_difference[1:top] - w_av)**2, axis=0)  / (top - 2))"
   ]
  },
  {
   "cell_type": "code",
   "execution_count": 63,
   "metadata": {
    "collapsed": true
   },
   "outputs": [],
   "source": [
    "def get_similar_games(games, top=1000):\n",
    "    dists = pairwise_distances(games)\n",
    "    result = []\n",
    "    for d in dists:\n",
    "        args = d.argsort()\n",
    "        similar_games = df.iloc[args[:top]]\n",
    "        similar_games.insert(0, 'distance', d[args[:top]])\n",
    "        result.append(similar_games)\n",
    "    return result"
   ]
  },
  {
   "cell_type": "code",
   "execution_count": 68,
   "metadata": {
    "collapsed": true
   },
   "outputs": [],
   "source": [
    "def get_crossval_score(year=2016, top=30):\n",
    "    games = []\n",
    "    for game in similar_games:\n",
    "        if game.iloc[0].year == year:\n",
    "            games.append(game)\n",
    "    pos = 0\n",
    "    for game in games:\n",
    "        year = game.iloc[0].year\n",
    "        week = game.iloc[0].week\n",
    "        tmp1 = game[np.logical_and(game.year <= year,\\\n",
    "                                   game.week <= week)]\n",
    "        weighted_av = np.average(tmp1.points_difference[1:top])#, weights=tmp1.distance[1:top])\n",
    "#         if top > len(tmp1):\n",
    "#             print(top, len(tmp1))\n",
    "        if np.sign(weighted_av) == np.sign(tmp1.points_difference.iloc[0]):\n",
    "            pos += 1\n",
    "    return pos / len(games)"
   ]
  },
  {
   "cell_type": "code",
   "execution_count": 72,
   "metadata": {
    "collapsed": true
   },
   "outputs": [],
   "source": [
    "scaler = MinMaxScaler()\n",
    "scaled_features = scaler.fit_transform(np.array(df[distance_features].values))\n",
    "similar_games1 = get_similar_games(scaled_features)\n",
    "similar_games2 = get_similar_games(df[distance_features].values)\n",
    "#try to use standard scaler for columns with +- values"
   ]
  },
  {
   "cell_type": "code",
   "execution_count": 93,
   "metadata": {
    "collapsed": true
   },
   "outputs": [],
   "source": [
    "similar_games = similar_games1"
   ]
  },
  {
   "cell_type": "code",
   "execution_count": 95,
   "metadata": {
    "collapsed": false,
    "scrolled": false
   },
   "outputs": [
    {
     "name": "stderr",
     "output_type": "stream",
     "text": [
      "/home/denilv/anaconda3/lib/python3.6/site-packages/numpy/core/_methods.py:59: RuntimeWarning: Mean of empty slice.\n",
      "  warnings.warn(\"Mean of empty slice.\", RuntimeWarning)\n",
      "/home/denilv/anaconda3/lib/python3.6/site-packages/numpy/core/_methods.py:70: RuntimeWarning: invalid value encountered in double_scalars\n",
      "  ret = ret.dtype.type(ret / rcount)\n"
     ]
    },
    {
     "name": "stdout",
     "output_type": "stream",
     "text": [
      "Crossvall accuracy score 0.500, 2014 year, using top 10  closest games to compute result.\n",
      "Crossvall accuracy score 0.503, 2014 year, using top 20  closest games to compute result.\n",
      "Crossvall accuracy score 0.523, 2014 year, using top 30  closest games to compute result.\n",
      "Crossvall accuracy score 0.521, 2014 year, using top 40  closest games to compute result.\n",
      "Crossvall accuracy score 0.526, 2014 year, using top 50  closest games to compute result.\n",
      "Crossvall accuracy score 0.526, 2014 year, using top 60  closest games to compute result.\n",
      "Crossvall accuracy score 0.530, 2014 year, using top 70  closest games to compute result.\n",
      "Crossvall accuracy score 0.531, 2014 year, using top 80  closest games to compute result.\n",
      "Crossvall accuracy score 0.534, 2014 year, using top 90  closest games to compute result.\n",
      "Crossvall accuracy score 0.536, 2014 year, using top 100 closest games to compute result.\n",
      "\n",
      "Crossvall accuracy score 0.506, 2015 year, using top 10  closest games to compute result.\n",
      "Crossvall accuracy score 0.523, 2015 year, using top 20  closest games to compute result.\n",
      "Crossvall accuracy score 0.519, 2015 year, using top 30  closest games to compute result.\n",
      "Crossvall accuracy score 0.514, 2015 year, using top 40  closest games to compute result.\n",
      "Crossvall accuracy score 0.513, 2015 year, using top 50  closest games to compute result.\n",
      "Crossvall accuracy score 0.526, 2015 year, using top 60  closest games to compute result.\n",
      "Crossvall accuracy score 0.535, 2015 year, using top 70  closest games to compute result.\n",
      "Crossvall accuracy score 0.533, 2015 year, using top 80  closest games to compute result.\n",
      "Crossvall accuracy score 0.526, 2015 year, using top 90  closest games to compute result.\n",
      "Crossvall accuracy score 0.529, 2015 year, using top 100 closest games to compute result.\n",
      "\n",
      "Crossvall accuracy score 0.515, 2016 year, using top 10  closest games to compute result.\n",
      "Crossvall accuracy score 0.524, 2016 year, using top 20  closest games to compute result.\n",
      "Crossvall accuracy score 0.530, 2016 year, using top 30  closest games to compute result.\n",
      "Crossvall accuracy score 0.534, 2016 year, using top 40  closest games to compute result.\n",
      "Crossvall accuracy score 0.538, 2016 year, using top 50  closest games to compute result.\n",
      "Crossvall accuracy score 0.539, 2016 year, using top 60  closest games to compute result.\n",
      "Crossvall accuracy score 0.548, 2016 year, using top 70  closest games to compute result.\n",
      "Crossvall accuracy score 0.547, 2016 year, using top 80  closest games to compute result.\n",
      "Crossvall accuracy score 0.545, 2016 year, using top 90  closest games to compute result.\n",
      "Crossvall accuracy score 0.545, 2016 year, using top 100 closest games to compute result.\n",
      "\n",
      "Crossvall accuracy score 0.470, 2017 year, using top 10  closest games to compute result.\n",
      "Crossvall accuracy score 0.495, 2017 year, using top 20  closest games to compute result.\n",
      "Crossvall accuracy score 0.505, 2017 year, using top 30  closest games to compute result.\n",
      "Crossvall accuracy score 0.525, 2017 year, using top 40  closest games to compute result.\n",
      "Crossvall accuracy score 0.540, 2017 year, using top 50  closest games to compute result.\n",
      "Crossvall accuracy score 0.525, 2017 year, using top 60  closest games to compute result.\n",
      "Crossvall accuracy score 0.515, 2017 year, using top 70  closest games to compute result.\n",
      "Crossvall accuracy score 0.495, 2017 year, using top 80  closest games to compute result.\n",
      "Crossvall accuracy score 0.510, 2017 year, using top 90  closest games to compute result.\n",
      "Crossvall accuracy score 0.505, 2017 year, using top 100 closest games to compute result.\n",
      "\n"
     ]
    }
   ],
   "source": [
    "top2acc = defaultdict(lambda : [])\n",
    "for year in (2014, 2015, 2016, 2017):\n",
    "    for top in range(10, 101, 10):\n",
    "        score = get_crossval_score(year, top)\n",
    "        top2acc[top].append(score)\n",
    "        print('Crossvall accuracy score {:.3f}, {:d} year, using top {:<3} closest games to compute result.'.\\\n",
    "              format(score, year, top))\n",
    "    print()"
   ]
  },
  {
   "cell_type": "code",
   "execution_count": 449,
   "metadata": {
    "collapsed": false
   },
   "outputs": [
    {
     "name": "stdout",
     "output_type": "stream",
     "text": [
      "Top 10 similar games - 0.624 average accuracy.\n",
      "Top 20 similar games - 0.650 average accuracy.\n",
      "Top 30 similar games - 0.650 average accuracy.\n",
      "Top 40 similar games - 0.653 average accuracy.\n",
      "Top 50 similar games - 0.650 average accuracy.\n",
      "Top 60 similar games - 0.652 average accuracy.\n",
      "Top 70 similar games - 0.655 average accuracy.\n",
      "Top 80 similar games - 0.656 average accuracy.\n",
      "Top 90 similar games - 0.656 average accuracy.\n",
      "Top 100 similar games - 0.656 average accuracy.\n"
     ]
    }
   ],
   "source": [
    "for top, accs in top2acc.items():\n",
    "    av_acc = np.average(accs)\n",
    "    print(\"Top {} similar games - {:.3f} average accuracy.\".format(top, av_acc))"
   ]
  },
  {
   "cell_type": "code",
   "execution_count": 430,
   "metadata": {
    "collapsed": true
   },
   "outputs": [],
   "source": [
    "def get_similar_games2(games, games_history, metric='euclidean', top=1000):\n",
    "    \n",
    "    similar_games = pairwise_distances(games, games_history, n_jobs=4)\n",
    "    result = []\n",
    "    for d in dists:\n",
    "        args = d.argsort()\n",
    "        similar_games = df.iloc[args[:top]]\n",
    "        similar_games.insert(0, 'distance', d[args[:top]])\n",
    "        result.append(similar_games)\n",
    "    \n",
    "    return result"
   ]
  },
  {
   "cell_type": "code",
   "execution_count": 432,
   "metadata": {
    "collapsed": false
   },
   "outputs": [
    {
     "data": {
      "text/html": [
       "<div>\n",
       "<table border=\"1\" class=\"dataframe\">\n",
       "  <thead>\n",
       "    <tr style=\"text-align: right;\">\n",
       "      <th></th>\n",
       "      <th>season</th>\n",
       "      <th>season_week</th>\n",
       "      <th>year</th>\n",
       "      <th>winlose</th>\n",
       "      <th>week</th>\n",
       "      <th>weekday</th>\n",
       "      <th>hour</th>\n",
       "      <th>team</th>\n",
       "      <th>opponent_team</th>\n",
       "      <th>points</th>\n",
       "      <th>...</th>\n",
       "      <th>points_difference</th>\n",
       "      <th>spread</th>\n",
       "      <th>win_against_spread</th>\n",
       "      <th>spread_percentage_sbr</th>\n",
       "      <th>moneyline_team</th>\n",
       "      <th>moneyline_opponent</th>\n",
       "      <th>total_team</th>\n",
       "      <th>total_opponent</th>\n",
       "      <th>spread_percentage_sportsplays</th>\n",
       "      <th>spread_percentage_vegas</th>\n",
       "    </tr>\n",
       "  </thead>\n",
       "  <tbody>\n",
       "    <tr>\n",
       "      <th>5671</th>\n",
       "      <td>2016</td>\n",
       "      <td>16</td>\n",
       "      <td>2017</td>\n",
       "      <td>0</td>\n",
       "      <td>3</td>\n",
       "      <td>5</td>\n",
       "      <td>21</td>\n",
       "      <td>LAC</td>\n",
       "      <td>DEN</td>\n",
       "      <td>98</td>\n",
       "      <td>...</td>\n",
       "      <td>-25</td>\n",
       "      <td>5.0</td>\n",
       "      <td>0</td>\n",
       "      <td>42</td>\n",
       "      <td>175.0</td>\n",
       "      <td>-210.0</td>\n",
       "      <td>222.5</td>\n",
       "      <td>222.5</td>\n",
       "      <td>45</td>\n",
       "      <td>32</td>\n",
       "    </tr>\n",
       "    <tr>\n",
       "      <th>5673</th>\n",
       "      <td>2016</td>\n",
       "      <td>16</td>\n",
       "      <td>2017</td>\n",
       "      <td>0</td>\n",
       "      <td>3</td>\n",
       "      <td>6</td>\n",
       "      <td>15</td>\n",
       "      <td>LAL</td>\n",
       "      <td>DAL</td>\n",
       "      <td>73</td>\n",
       "      <td>...</td>\n",
       "      <td>-49</td>\n",
       "      <td>6.0</td>\n",
       "      <td>0</td>\n",
       "      <td>43</td>\n",
       "      <td>200.0</td>\n",
       "      <td>-240.0</td>\n",
       "      <td>207.5</td>\n",
       "      <td>207.5</td>\n",
       "      <td>48</td>\n",
       "      <td>47</td>\n",
       "    </tr>\n",
       "    <tr>\n",
       "      <th>5675</th>\n",
       "      <td>2016</td>\n",
       "      <td>16</td>\n",
       "      <td>2017</td>\n",
       "      <td>0</td>\n",
       "      <td>3</td>\n",
       "      <td>6</td>\n",
       "      <td>19</td>\n",
       "      <td>DEN</td>\n",
       "      <td>MIN</td>\n",
       "      <td>108</td>\n",
       "      <td>...</td>\n",
       "      <td>-3</td>\n",
       "      <td>3.5</td>\n",
       "      <td>0</td>\n",
       "      <td>46</td>\n",
       "      <td>155.0</td>\n",
       "      <td>-165.0</td>\n",
       "      <td>221.0</td>\n",
       "      <td>221.0</td>\n",
       "      <td>37</td>\n",
       "      <td>34</td>\n",
       "    </tr>\n",
       "  </tbody>\n",
       "</table>\n",
       "<p>3 rows × 21 columns</p>\n",
       "</div>"
      ],
      "text/plain": [
       "      season  season_week  year  winlose  week  weekday  hour team  \\\n",
       "5671    2016           16  2017        0     3        5    21  LAC   \n",
       "5673    2016           16  2017        0     3        6    15  LAL   \n",
       "5675    2016           16  2017        0     3        6    19  DEN   \n",
       "\n",
       "     opponent_team  points           ...             points_difference  \\\n",
       "5671           DEN      98           ...                           -25   \n",
       "5673           DAL      73           ...                           -49   \n",
       "5675           MIN     108           ...                            -3   \n",
       "\n",
       "      spread  win_against_spread  spread_percentage_sbr  moneyline_team  \\\n",
       "5671     5.0                   0                     42           175.0   \n",
       "5673     6.0                   0                     43           200.0   \n",
       "5675     3.5                   0                     46           155.0   \n",
       "\n",
       "      moneyline_opponent  total_team  total_opponent  \\\n",
       "5671              -210.0       222.5           222.5   \n",
       "5673              -240.0       207.5           207.5   \n",
       "5675              -165.0       221.0           221.0   \n",
       "\n",
       "      spread_percentage_sportsplays  spread_percentage_vegas  \n",
       "5671                             45                       32  \n",
       "5673                             48                       47  \n",
       "5675                             37                       34  \n",
       "\n",
       "[3 rows x 21 columns]"
      ]
     },
     "execution_count": 432,
     "metadata": {},
     "output_type": "execute_result"
    }
   ],
   "source": [
    "games = df.iloc[-3:]\n"
   ]
  },
  {
   "cell_type": "code",
   "execution_count": 429,
   "metadata": {
    "collapsed": true
   },
   "outputs": [],
   "source": [
    "def get_pds(games, similar_games, weighted=True):\n",
    "    games_history = df[features].values\n",
    "    pds = []\n",
    "    for game, sim_games in zip(games, similar_games):\n",
    "        if weighted:\n",
    "            av_pd = np.average(similar_games.points_difference[:top], weights=similar_games.distance[:top])\n",
    "        else:\n",
    "            av_pd = np.average(similar_games.points_difference[:top])\n",
    "        pds.append(av_pd)\n",
    "    return pds"
   ]
  },
  {
   "cell_type": "code",
   "execution_count": null,
   "metadata": {
    "collapsed": true
   },
   "outputs": [],
   "source": [
    "def get_crossval_score(season=2016, top=30):\n",
    "    games = []\n",
    "    for game in similar_games:\n",
    "        if game.iloc[0].season == season:\n",
    "            games.append(game)\n",
    "    pos = 0\n",
    "    for game in games:\n",
    "        s = game.iloc[0].season\n",
    "        season_week = game.iloc[0].season_week\n",
    "        tmp1 = game[np.logical_and(game.season <= s,\\\n",
    "                                   game.season_week <= season_week)]\n",
    "        weighted_av = np.average(tmp1.points_difference[1:top])#, weights=tmp1.distance[1:top])\n",
    "#         if top > len(tmp1):\n",
    "#             print(top, len(tmp1))\n",
    "        if np.sign(weighted_av) == np.sign(tmp1.points_difference.iloc[0]):\n",
    "            pos += 1\n",
    "    return pos / len(games)"
   ]
  }
 ],
 "metadata": {
  "kernelspec": {
   "display_name": "Python 3",
   "language": "python",
   "name": "python3"
  },
  "language_info": {
   "codemirror_mode": {
    "name": "ipython",
    "version": 3
   },
   "file_extension": ".py",
   "mimetype": "text/x-python",
   "name": "python",
   "nbconvert_exporter": "python",
   "pygments_lexer": "ipython3",
   "version": "3.6.0"
  }
 },
 "nbformat": 4,
 "nbformat_minor": 2
}
